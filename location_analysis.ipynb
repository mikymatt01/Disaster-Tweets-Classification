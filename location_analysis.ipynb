{
 "cells": [
  {
   "cell_type": "code",
   "execution_count": 55,
   "metadata": {},
   "outputs": [],
   "source": [
    "from geopy.geocoders import Nominatim\n",
    "import spacy\n",
    "import pandas as pd\n",
    "from tqdm import tqdm\n",
    "from time import sleep\n",
    "import math\n",
    "from multiprocess import Pool, Queue\n",
    "import json\n",
    "\n",
    "df = pd.read_csv('cleaned_train.csv')\n",
    "nlp = spacy.load('en_core_web_trf')\n",
    "locations = df[df['location'].notna()]['location'].tolist()\n",
    "checkpoint_filename = \"\""
   ]
  },
  {
   "cell_type": "code",
   "execution_count": 56,
   "metadata": {},
   "outputs": [],
   "source": [
    "def get_zone(location):\n",
    "    zone = ''\n",
    "\n",
    "    try:\n",
    "        geolocator = Nominatim(user_agent=f\"track\")\n",
    "\n",
    "        sleep(0.05)\n",
    "        geocode = geolocator.geocode(location)\n",
    "        if geocode:\n",
    "            zone = geocode.address.split(',')[-1]\n",
    "            if zone:\n",
    "                return zone\n",
    "        else:\n",
    "            return \"\"\n",
    "        return \"\"\n",
    "    except Exception as e:\n",
    "        return \"\""
   ]
  },
  {
   "cell_type": "code",
   "execution_count": 58,
   "metadata": {},
   "outputs": [
    {
     "name": "stderr",
     "output_type": "stream",
     "text": [
      "7613it [20:43,  6.12it/s]  \n"
     ]
    }
   ],
   "source": [
    "try:\n",
    "    for index, row in tqdm(df.iterrows()):\n",
    "        if str(df.loc[index, 'country']) == 'nan' and str(df.loc[index, 'location']) != 'nan':\n",
    "            df.loc[index, 'country'] = get_zone(df.loc[index, 'location'])\n",
    "except KeyboardInterrupt as e:\n",
    "    df.to_csv('cleaned_train.csv')"
   ]
  },
  {
   "cell_type": "code",
   "execution_count": 59,
   "metadata": {},
   "outputs": [],
   "source": [
    "df.to_csv('cleaned_train.csv')"
   ]
  },
  {
   "cell_type": "markdown",
   "metadata": {},
   "source": [
    "### Take Only Locations"
   ]
  },
  {
   "cell_type": "code",
   "execution_count": null,
   "metadata": {},
   "outputs": [],
   "source": [
    "delta = 235\n",
    "n_subset = math.ceil(len(locations) / delta)\n",
    "args = [(locations, i*delta, (i+1)*delta) for i in range(n_subset)]"
   ]
  },
  {
   "cell_type": "code",
   "execution_count": null,
   "metadata": {},
   "outputs": [],
   "source": [
    "def get_zones(locations, start, end):\n",
    "    index = 0\n",
    "    zones_found = []\n",
    "    zones_not_found = []\n",
    "\n",
    "    try:\n",
    "        geolocator = Nominatim(user_agent=f\"track\")\n",
    "\n",
    "        cicle = None\n",
    "        if end < len(locations):\n",
    "            cicle = range(start, end)\n",
    "        else:\n",
    "            cicle = range(start, len(locations))\n",
    "\n",
    "        for i in tqdm(cicle):\n",
    "            index = i\n",
    "            sleep(0.05)\n",
    "            geocode = geolocator.geocode(locations[i])\n",
    "            if geocode:\n",
    "                zone = geocode.address.split(',')[-1]\n",
    "                if zone not in zones_found:\n",
    "                    zones_found.append(zone)\n",
    "            else:\n",
    "                zones_not_found.append(locations[i])\n",
    "        return zones_found, zones_not_found, end, end\n",
    "    except Exception as e:\n",
    "        print(e)\n",
    "        return zones_found, zones_not_found, index, end"
   ]
  },
  {
   "cell_type": "code",
   "execution_count": null,
   "metadata": {},
   "outputs": [],
   "source": [
    "with Pool(2) as p:\n",
    "    results = p.starmap(get_zones, args)"
   ]
  },
  {
   "cell_type": "code",
   "execution_count": null,
   "metadata": {},
   "outputs": [],
   "source": [
    "print(results)"
   ]
  },
  {
   "cell_type": "code",
   "execution_count": null,
   "metadata": {},
   "outputs": [],
   "source": [
    "f = open(checkpoint_filename, \"a\")\n",
    "checkpoints = []\n",
    "for z, n_z, s, e in results:\n",
    "    obj = {\n",
    "        \"zones_found\": z,\n",
    "        \"zones_not_found\": n_z,\n",
    "        \"start\": s,\n",
    "        \"end\": e,\n",
    "    }\n",
    "    checkpoints.append(obj)\n",
    "f.write(json.dumps(checkpoints))\n",
    "f.close()"
   ]
  },
  {
   "cell_type": "code",
   "execution_count": null,
   "metadata": {},
   "outputs": [],
   "source": [
    "f = open(checkpoint_filename, \"r\")\n",
    "checkpoint = json.load(f)\n",
    "total_miss = 0\n",
    "new_args = []\n",
    "for c in checkpoint:\n",
    "    total_miss += (c['end'] - c['start'])\n",
    "print(total_miss)"
   ]
  },
  {
   "cell_type": "code",
   "execution_count": null,
   "metadata": {},
   "outputs": [],
   "source": [
    "args = []\n",
    "for c in checkpoint:\n",
    "    if int(c['start']) != int(c['end']):\n",
    "        args.append((locations, int(c['start']), int(c['end'])))\n",
    "args"
   ]
  },
  {
   "cell_type": "code",
   "execution_count": null,
   "metadata": {},
   "outputs": [],
   "source": [
    "for i in checkpoint:\n",
    "    if i['start'] != i['end']:\n",
    "        for index in range(i['start'], i['end']):\n",
    "            print(locations[index])"
   ]
  }
 ],
 "metadata": {
  "kernelspec": {
   "display_name": "aif",
   "language": "python",
   "name": "python3"
  },
  "language_info": {
   "codemirror_mode": {
    "name": "ipython",
    "version": 3
   },
   "file_extension": ".py",
   "mimetype": "text/x-python",
   "name": "python",
   "nbconvert_exporter": "python",
   "pygments_lexer": "ipython3",
   "version": "3.10.13"
  }
 },
 "nbformat": 4,
 "nbformat_minor": 2
}
