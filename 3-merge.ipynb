{
 "cells": [
  {
   "cell_type": "code",
   "execution_count": 1,
   "metadata": {},
   "outputs": [],
   "source": [
    "import pandas as pd\n",
    "from copy import deepcopy\n",
    "\n",
    "file_path_one = './cleaned_train_preprocess_one.csv'\n",
    "file_path_two = './cleaned_train_preprocess_two.csv'\n",
    "\n",
    "ones = pd.read_csv(file_path_one).to_dict('records')\n",
    "twos = pd.read_csv(file_path_two).to_dict('records')\n",
    "keywords = [one['cleaned_keyword'] for one in ones]"
   ]
  },
  {
   "cell_type": "code",
   "execution_count": 2,
   "metadata": {},
   "outputs": [],
   "source": [
    "def get_copy(dt):\n",
    "    dt2 = []\n",
    "    for item in dt:\n",
    "        dt2.append(deepcopy(item))\n",
    "    return dt2\n",
    "\n",
    "threes = get_copy(ones)\n",
    "fours = get_copy(twos)"
   ]
  },
  {
   "cell_type": "code",
   "execution_count": 3,
   "metadata": {},
   "outputs": [],
   "source": [
    "file_path_with_features = './analyzed_train.csv'\n",
    "features = pd.read_csv(file_path_with_features).to_dict('records')"
   ]
  },
  {
   "cell_type": "code",
   "execution_count": 4,
   "metadata": {},
   "outputs": [],
   "source": [
    "def merge_features(base_dt, feature_dt):\n",
    "    for one, feature in zip(base_dt, feature_dt):\n",
    "        for i in list(feature.keys() - one.keys()):\n",
    "            one[i] = feature[i]\n",
    "    return base_dt\n",
    "\n",
    "def add_keywords(dt, keywords):\n",
    "    for item, keyword in zip(dt, keywords):\n",
    "        item['cleaned_keyword'] = keyword\n",
    "    return dt"
   ]
  },
  {
   "cell_type": "code",
   "execution_count": 5,
   "metadata": {},
   "outputs": [],
   "source": [
    "threes = merge_features(threes, features)\n",
    "fours = merge_features(fours, features)"
   ]
  },
  {
   "cell_type": "code",
   "execution_count": 6,
   "metadata": {},
   "outputs": [],
   "source": [
    "twos = add_keywords(twos, keywords)\n",
    "threes = add_keywords(threes, keywords)\n",
    "fours = add_keywords(fours, keywords)"
   ]
  },
  {
   "cell_type": "code",
   "execution_count": 7,
   "metadata": {},
   "outputs": [],
   "source": [
    "ones = pd.DataFrame(ones)\n",
    "twos = pd.DataFrame(twos)\n",
    "threes = pd.DataFrame(threes)\n",
    "fours = pd.DataFrame(fours)"
   ]
  },
  {
   "cell_type": "code",
   "execution_count": 8,
   "metadata": {},
   "outputs": [],
   "source": [
    "file_path_one = './data-to-train/preprocess_one.csv'\n",
    "file_path_two = './data-to-train/preprocess_two.csv'\n",
    "file_path_three = './data-to-train/preprocess_three.csv'\n",
    "file_path_four = './data-to-train/preprocess_four.csv'\n",
    "\n",
    "ones.to_csv(file_path_one)\n",
    "twos.to_csv(file_path_two)\n",
    "threes.to_csv(file_path_three)\n",
    "fours.to_csv(file_path_four)\n",
    "\n"
   ]
  }
 ],
 "metadata": {
  "kernelspec": {
   "display_name": "ml",
   "language": "python",
   "name": "python3"
  },
  "language_info": {
   "codemirror_mode": {
    "name": "ipython",
    "version": 3
   },
   "file_extension": ".py",
   "mimetype": "text/x-python",
   "name": "python",
   "nbconvert_exporter": "python",
   "pygments_lexer": "ipython3",
   "version": "3.12.3"
  }
 },
 "nbformat": 4,
 "nbformat_minor": 2
}
