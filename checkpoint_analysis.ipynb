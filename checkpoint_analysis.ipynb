{
 "cells": [
  {
   "cell_type": "code",
   "execution_count": null,
   "metadata": {},
   "outputs": [],
   "source": [
    "import json\n",
    "from wordcloud import WordCloud\n",
    "from matplotlib import pyplot as plt"
   ]
  },
  {
   "cell_type": "code",
   "execution_count": null,
   "metadata": {},
   "outputs": [],
   "source": [
    "n = 7\n",
    "filename = 'locations_checkpoint/checkpoint_{0}.json'\n",
    "zones_found = []\n",
    "for i in range(n + 1):\n",
    "    print(\"read \", filename.format(i))\n",
    "    f = open(filename.format(i), \"r\")\n",
    "    checkpoint = json.load(f)\n",
    "    for obj in checkpoint:\n",
    "        zones_found += obj['zones_found']\n",
    "    f.close()\n",
    "print(zones_found)"
   ]
  },
  {
   "cell_type": "code",
   "execution_count": null,
   "metadata": {},
   "outputs": [],
   "source": [
    "print(len(zones_found))"
   ]
  },
  {
   "cell_type": "code",
   "execution_count": null,
   "metadata": {},
   "outputs": [],
   "source": [
    "tmp = []\n",
    "for zone in zones_found:\n",
    "    val = zone.replace(' ', '_') \n",
    "    if val[0] == '_':\n",
    "        tmp.append(val[1:])\n",
    "    else:\n",
    "        tmp.append(val)\n",
    "zones_found = tmp"
   ]
  },
  {
   "cell_type": "code",
   "execution_count": null,
   "metadata": {},
   "outputs": [],
   "source": [
    "z_f_text = \" \".join(zones_found)\n",
    "print(z_f_text)"
   ]
  },
  {
   "cell_type": "code",
   "execution_count": null,
   "metadata": {},
   "outputs": [],
   "source": [
    "wordcloud = WordCloud(background_color=\"white\", ).generate(z_f_text)\n",
    "wordcloud.to_file(\"wordcloud_locations.png\")\n",
    "# Display the generated image:\n",
    "plt.imshow(wordcloud, interpolation='bilinear')\n",
    "plt.axis(\"off\")\n",
    "plt.show()"
   ]
  }
 ],
 "metadata": {
  "kernelspec": {
   "display_name": "aif",
   "language": "python",
   "name": "python3"
  },
  "language_info": {
   "codemirror_mode": {
    "name": "ipython",
    "version": 3
   },
   "file_extension": ".py",
   "mimetype": "text/x-python",
   "name": "python",
   "nbconvert_exporter": "python",
   "pygments_lexer": "ipython3",
   "version": "3.10.13"
  }
 },
 "nbformat": 4,
 "nbformat_minor": 2
}
